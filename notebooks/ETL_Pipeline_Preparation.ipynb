{
 "cells": [
  {
   "cell_type": "markdown",
   "metadata": {},
   "source": [
    "# ETL Pipeline Preparation\n",
    "### 1. Import libraries and load datasets."
   ]
  },
  {
   "cell_type": "code",
   "execution_count": 1,
   "metadata": {},
   "outputs": [],
   "source": [
    "# import libraries\n",
    "import pandas as pd\n",
    "from sqlalchemy import create_engine"
   ]
  },
  {
   "cell_type": "code",
   "execution_count": 2,
   "metadata": {},
   "outputs": [
    {
     "output_type": "stream",
     "name": "stdout",
     "text": "(26248, 4)\n"
    },
    {
     "output_type": "execute_result",
     "data": {
      "text/plain": "   id                                            message  \\\n0   2  Weather update - a cold front from Cuba that c...   \n1   7            Is the Hurricane over or is it not over   \n2   8                    Looking for someone but no name   \n3   9  UN reports Leogane 80-90 destroyed. Only Hospi...   \n4  12  says: west side of Haiti, rest of the country ...   \n\n                                            original   genre  \n0  Un front froid se retrouve sur Cuba ce matin. ...  direct  \n1                 Cyclone nan fini osinon li pa fini  direct  \n2  Patnm, di Maryani relem pou li banm nouvel li ...  direct  \n3  UN reports Leogane 80-90 destroyed. Only Hospi...  direct  \n4  facade ouest d Haiti et le reste du pays aujou...  direct  ",
      "text/html": "<div>\n<style scoped>\n    .dataframe tbody tr th:only-of-type {\n        vertical-align: middle;\n    }\n\n    .dataframe tbody tr th {\n        vertical-align: top;\n    }\n\n    .dataframe thead th {\n        text-align: right;\n    }\n</style>\n<table border=\"1\" class=\"dataframe\">\n  <thead>\n    <tr style=\"text-align: right;\">\n      <th></th>\n      <th>id</th>\n      <th>message</th>\n      <th>original</th>\n      <th>genre</th>\n    </tr>\n  </thead>\n  <tbody>\n    <tr>\n      <td>0</td>\n      <td>2</td>\n      <td>Weather update - a cold front from Cuba that c...</td>\n      <td>Un front froid se retrouve sur Cuba ce matin. ...</td>\n      <td>direct</td>\n    </tr>\n    <tr>\n      <td>1</td>\n      <td>7</td>\n      <td>Is the Hurricane over or is it not over</td>\n      <td>Cyclone nan fini osinon li pa fini</td>\n      <td>direct</td>\n    </tr>\n    <tr>\n      <td>2</td>\n      <td>8</td>\n      <td>Looking for someone but no name</td>\n      <td>Patnm, di Maryani relem pou li banm nouvel li ...</td>\n      <td>direct</td>\n    </tr>\n    <tr>\n      <td>3</td>\n      <td>9</td>\n      <td>UN reports Leogane 80-90 destroyed. Only Hospi...</td>\n      <td>UN reports Leogane 80-90 destroyed. Only Hospi...</td>\n      <td>direct</td>\n    </tr>\n    <tr>\n      <td>4</td>\n      <td>12</td>\n      <td>says: west side of Haiti, rest of the country ...</td>\n      <td>facade ouest d Haiti et le reste du pays aujou...</td>\n      <td>direct</td>\n    </tr>\n  </tbody>\n</table>\n</div>"
     },
     "metadata": {},
     "execution_count": 2
    }
   ],
   "source": [
    "# load messages dataset\n",
    "messages = pd.read_csv('../data/messages.csv')\n",
    "print(messages.shape) # checking the shape of the df\n",
    "messages.head()"
   ]
  },
  {
   "cell_type": "code",
   "execution_count": 3,
   "metadata": {},
   "outputs": [
    {
     "output_type": "stream",
     "name": "stdout",
     "text": "(26248, 2)\n"
    },
    {
     "output_type": "execute_result",
     "data": {
      "text/plain": "   id                                         categories\n0   2  related-1;request-0;offer-0;aid_related-0;medi...\n1   7  related-1;request-0;offer-0;aid_related-1;medi...\n2   8  related-1;request-0;offer-0;aid_related-0;medi...\n3   9  related-1;request-1;offer-0;aid_related-1;medi...\n4  12  related-1;request-0;offer-0;aid_related-0;medi...",
      "text/html": "<div>\n<style scoped>\n    .dataframe tbody tr th:only-of-type {\n        vertical-align: middle;\n    }\n\n    .dataframe tbody tr th {\n        vertical-align: top;\n    }\n\n    .dataframe thead th {\n        text-align: right;\n    }\n</style>\n<table border=\"1\" class=\"dataframe\">\n  <thead>\n    <tr style=\"text-align: right;\">\n      <th></th>\n      <th>id</th>\n      <th>categories</th>\n    </tr>\n  </thead>\n  <tbody>\n    <tr>\n      <td>0</td>\n      <td>2</td>\n      <td>related-1;request-0;offer-0;aid_related-0;medi...</td>\n    </tr>\n    <tr>\n      <td>1</td>\n      <td>7</td>\n      <td>related-1;request-0;offer-0;aid_related-1;medi...</td>\n    </tr>\n    <tr>\n      <td>2</td>\n      <td>8</td>\n      <td>related-1;request-0;offer-0;aid_related-0;medi...</td>\n    </tr>\n    <tr>\n      <td>3</td>\n      <td>9</td>\n      <td>related-1;request-1;offer-0;aid_related-1;medi...</td>\n    </tr>\n    <tr>\n      <td>4</td>\n      <td>12</td>\n      <td>related-1;request-0;offer-0;aid_related-0;medi...</td>\n    </tr>\n  </tbody>\n</table>\n</div>"
     },
     "metadata": {},
     "execution_count": 3
    }
   ],
   "source": [
    "# load categories dataset\n",
    "categories = pd.read_csv('../data/categories.csv')\n",
    "print(categories.shape) # checking the shape of the df\n",
    "categories.head()"
   ]
  },
  {
   "cell_type": "markdown",
   "metadata": {},
   "source": [
    "### 2. Merge datasets."
   ]
  },
  {
   "cell_type": "code",
   "execution_count": 4,
   "metadata": {},
   "outputs": [
    {
     "output_type": "stream",
     "name": "stdout",
     "text": "(26386, 5)\n"
    },
    {
     "output_type": "execute_result",
     "data": {
      "text/plain": "   id                                            message  \\\n0   2  Weather update - a cold front from Cuba that c...   \n1   7            Is the Hurricane over or is it not over   \n2   8                    Looking for someone but no name   \n3   9  UN reports Leogane 80-90 destroyed. Only Hospi...   \n4  12  says: west side of Haiti, rest of the country ...   \n\n                                            original   genre  \\\n0  Un front froid se retrouve sur Cuba ce matin. ...  direct   \n1                 Cyclone nan fini osinon li pa fini  direct   \n2  Patnm, di Maryani relem pou li banm nouvel li ...  direct   \n3  UN reports Leogane 80-90 destroyed. Only Hospi...  direct   \n4  facade ouest d Haiti et le reste du pays aujou...  direct   \n\n                                          categories  \n0  related-1;request-0;offer-0;aid_related-0;medi...  \n1  related-1;request-0;offer-0;aid_related-1;medi...  \n2  related-1;request-0;offer-0;aid_related-0;medi...  \n3  related-1;request-1;offer-0;aid_related-1;medi...  \n4  related-1;request-0;offer-0;aid_related-0;medi...  ",
      "text/html": "<div>\n<style scoped>\n    .dataframe tbody tr th:only-of-type {\n        vertical-align: middle;\n    }\n\n    .dataframe tbody tr th {\n        vertical-align: top;\n    }\n\n    .dataframe thead th {\n        text-align: right;\n    }\n</style>\n<table border=\"1\" class=\"dataframe\">\n  <thead>\n    <tr style=\"text-align: right;\">\n      <th></th>\n      <th>id</th>\n      <th>message</th>\n      <th>original</th>\n      <th>genre</th>\n      <th>categories</th>\n    </tr>\n  </thead>\n  <tbody>\n    <tr>\n      <td>0</td>\n      <td>2</td>\n      <td>Weather update - a cold front from Cuba that c...</td>\n      <td>Un front froid se retrouve sur Cuba ce matin. ...</td>\n      <td>direct</td>\n      <td>related-1;request-0;offer-0;aid_related-0;medi...</td>\n    </tr>\n    <tr>\n      <td>1</td>\n      <td>7</td>\n      <td>Is the Hurricane over or is it not over</td>\n      <td>Cyclone nan fini osinon li pa fini</td>\n      <td>direct</td>\n      <td>related-1;request-0;offer-0;aid_related-1;medi...</td>\n    </tr>\n    <tr>\n      <td>2</td>\n      <td>8</td>\n      <td>Looking for someone but no name</td>\n      <td>Patnm, di Maryani relem pou li banm nouvel li ...</td>\n      <td>direct</td>\n      <td>related-1;request-0;offer-0;aid_related-0;medi...</td>\n    </tr>\n    <tr>\n      <td>3</td>\n      <td>9</td>\n      <td>UN reports Leogane 80-90 destroyed. Only Hospi...</td>\n      <td>UN reports Leogane 80-90 destroyed. Only Hospi...</td>\n      <td>direct</td>\n      <td>related-1;request-1;offer-0;aid_related-1;medi...</td>\n    </tr>\n    <tr>\n      <td>4</td>\n      <td>12</td>\n      <td>says: west side of Haiti, rest of the country ...</td>\n      <td>facade ouest d Haiti et le reste du pays aujou...</td>\n      <td>direct</td>\n      <td>related-1;request-0;offer-0;aid_related-0;medi...</td>\n    </tr>\n  </tbody>\n</table>\n</div>"
     },
     "metadata": {},
     "execution_count": 4
    }
   ],
   "source": [
    "# merge datasets\n",
    "df = messages.merge(categories\n",
    "                   ,how = 'inner'\n",
    "                   ,on = ['id'])\n",
    "print(df.shape)                   \n",
    "df.head()"
   ]
  },
  {
   "cell_type": "markdown",
   "metadata": {},
   "source": [
    "### 3. Split `categories` into separate category columns."
   ]
  },
  {
   "cell_type": "code",
   "execution_count": 5,
   "metadata": {},
   "outputs": [
    {
     "output_type": "execute_result",
     "data": {
      "text/plain": "          0          1        2              3               4   \\\n0  related-1  request-0  offer-0  aid_related-0  medical_help-0   \n1  related-1  request-0  offer-0  aid_related-1  medical_help-0   \n2  related-1  request-0  offer-0  aid_related-0  medical_help-0   \n3  related-1  request-1  offer-0  aid_related-1  medical_help-0   \n4  related-1  request-0  offer-0  aid_related-0  medical_help-0   \n\n                   5                    6           7           8   \\\n0  medical_products-0  search_and_rescue-0  security-0  military-0   \n1  medical_products-0  search_and_rescue-0  security-0  military-0   \n2  medical_products-0  search_and_rescue-0  security-0  military-0   \n3  medical_products-1  search_and_rescue-0  security-0  military-0   \n4  medical_products-0  search_and_rescue-0  security-0  military-0   \n\n              9   ...             26                      27  \\\n0  child_alone-0  ...  aid_centers-0  other_infrastructure-0   \n1  child_alone-0  ...  aid_centers-0  other_infrastructure-0   \n2  child_alone-0  ...  aid_centers-0  other_infrastructure-0   \n3  child_alone-0  ...  aid_centers-0  other_infrastructure-0   \n4  child_alone-0  ...  aid_centers-0  other_infrastructure-0   \n\n                  28        29       30      31            32      33  \\\n0  weather_related-0  floods-0  storm-0  fire-0  earthquake-0  cold-0   \n1  weather_related-1  floods-0  storm-1  fire-0  earthquake-0  cold-0   \n2  weather_related-0  floods-0  storm-0  fire-0  earthquake-0  cold-0   \n3  weather_related-0  floods-0  storm-0  fire-0  earthquake-0  cold-0   \n4  weather_related-0  floods-0  storm-0  fire-0  earthquake-0  cold-0   \n\n                34               35  \n0  other_weather-0  direct_report-0  \n1  other_weather-0  direct_report-0  \n2  other_weather-0  direct_report-0  \n3  other_weather-0  direct_report-0  \n4  other_weather-0  direct_report-0  \n\n[5 rows x 36 columns]",
      "text/html": "<div>\n<style scoped>\n    .dataframe tbody tr th:only-of-type {\n        vertical-align: middle;\n    }\n\n    .dataframe tbody tr th {\n        vertical-align: top;\n    }\n\n    .dataframe thead th {\n        text-align: right;\n    }\n</style>\n<table border=\"1\" class=\"dataframe\">\n  <thead>\n    <tr style=\"text-align: right;\">\n      <th></th>\n      <th>0</th>\n      <th>1</th>\n      <th>2</th>\n      <th>3</th>\n      <th>4</th>\n      <th>5</th>\n      <th>6</th>\n      <th>7</th>\n      <th>8</th>\n      <th>9</th>\n      <th>...</th>\n      <th>26</th>\n      <th>27</th>\n      <th>28</th>\n      <th>29</th>\n      <th>30</th>\n      <th>31</th>\n      <th>32</th>\n      <th>33</th>\n      <th>34</th>\n      <th>35</th>\n    </tr>\n  </thead>\n  <tbody>\n    <tr>\n      <td>0</td>\n      <td>related-1</td>\n      <td>request-0</td>\n      <td>offer-0</td>\n      <td>aid_related-0</td>\n      <td>medical_help-0</td>\n      <td>medical_products-0</td>\n      <td>search_and_rescue-0</td>\n      <td>security-0</td>\n      <td>military-0</td>\n      <td>child_alone-0</td>\n      <td>...</td>\n      <td>aid_centers-0</td>\n      <td>other_infrastructure-0</td>\n      <td>weather_related-0</td>\n      <td>floods-0</td>\n      <td>storm-0</td>\n      <td>fire-0</td>\n      <td>earthquake-0</td>\n      <td>cold-0</td>\n      <td>other_weather-0</td>\n      <td>direct_report-0</td>\n    </tr>\n    <tr>\n      <td>1</td>\n      <td>related-1</td>\n      <td>request-0</td>\n      <td>offer-0</td>\n      <td>aid_related-1</td>\n      <td>medical_help-0</td>\n      <td>medical_products-0</td>\n      <td>search_and_rescue-0</td>\n      <td>security-0</td>\n      <td>military-0</td>\n      <td>child_alone-0</td>\n      <td>...</td>\n      <td>aid_centers-0</td>\n      <td>other_infrastructure-0</td>\n      <td>weather_related-1</td>\n      <td>floods-0</td>\n      <td>storm-1</td>\n      <td>fire-0</td>\n      <td>earthquake-0</td>\n      <td>cold-0</td>\n      <td>other_weather-0</td>\n      <td>direct_report-0</td>\n    </tr>\n    <tr>\n      <td>2</td>\n      <td>related-1</td>\n      <td>request-0</td>\n      <td>offer-0</td>\n      <td>aid_related-0</td>\n      <td>medical_help-0</td>\n      <td>medical_products-0</td>\n      <td>search_and_rescue-0</td>\n      <td>security-0</td>\n      <td>military-0</td>\n      <td>child_alone-0</td>\n      <td>...</td>\n      <td>aid_centers-0</td>\n      <td>other_infrastructure-0</td>\n      <td>weather_related-0</td>\n      <td>floods-0</td>\n      <td>storm-0</td>\n      <td>fire-0</td>\n      <td>earthquake-0</td>\n      <td>cold-0</td>\n      <td>other_weather-0</td>\n      <td>direct_report-0</td>\n    </tr>\n    <tr>\n      <td>3</td>\n      <td>related-1</td>\n      <td>request-1</td>\n      <td>offer-0</td>\n      <td>aid_related-1</td>\n      <td>medical_help-0</td>\n      <td>medical_products-1</td>\n      <td>search_and_rescue-0</td>\n      <td>security-0</td>\n      <td>military-0</td>\n      <td>child_alone-0</td>\n      <td>...</td>\n      <td>aid_centers-0</td>\n      <td>other_infrastructure-0</td>\n      <td>weather_related-0</td>\n      <td>floods-0</td>\n      <td>storm-0</td>\n      <td>fire-0</td>\n      <td>earthquake-0</td>\n      <td>cold-0</td>\n      <td>other_weather-0</td>\n      <td>direct_report-0</td>\n    </tr>\n    <tr>\n      <td>4</td>\n      <td>related-1</td>\n      <td>request-0</td>\n      <td>offer-0</td>\n      <td>aid_related-0</td>\n      <td>medical_help-0</td>\n      <td>medical_products-0</td>\n      <td>search_and_rescue-0</td>\n      <td>security-0</td>\n      <td>military-0</td>\n      <td>child_alone-0</td>\n      <td>...</td>\n      <td>aid_centers-0</td>\n      <td>other_infrastructure-0</td>\n      <td>weather_related-0</td>\n      <td>floods-0</td>\n      <td>storm-0</td>\n      <td>fire-0</td>\n      <td>earthquake-0</td>\n      <td>cold-0</td>\n      <td>other_weather-0</td>\n      <td>direct_report-0</td>\n    </tr>\n  </tbody>\n</table>\n<p>5 rows × 36 columns</p>\n</div>"
     },
     "metadata": {},
     "execution_count": 5
    }
   ],
   "source": [
    "# create a dataframe of the 36 individual category columns\n",
    "categories = df['categories'].str.split(';'\n",
    "                                       ,expand = True)\n",
    "categories.head()"
   ]
  },
  {
   "cell_type": "code",
   "execution_count": 6,
   "metadata": {},
   "outputs": [
    {
     "output_type": "stream",
     "name": "stdout",
     "text": "0                    related\n1                    request\n2                      offer\n3                aid_related\n4               medical_help\n5           medical_products\n6          search_and_rescue\n7                   security\n8                   military\n9                child_alone\n10                     water\n11                      food\n12                   shelter\n13                  clothing\n14                     money\n15            missing_people\n16                  refugees\n17                     death\n18                 other_aid\n19    infrastructure_related\n20                 transport\n21                 buildings\n22               electricity\n23                     tools\n24                 hospitals\n25                     shops\n26               aid_centers\n27      other_infrastructure\n28           weather_related\n29                    floods\n30                     storm\n31                      fire\n32                earthquake\n33                      cold\n34             other_weather\n35             direct_report\nName: 0, dtype: object\n"
    }
   ],
   "source": [
    "# select the first row of the categories dataframe\n",
    "row = categories.iloc[0, :]\n",
    "# strip unnecessary characters\n",
    "category_colnames = row.apply(lambda x: x.rstrip ('-0 1'))\n",
    "print(category_colnames)"
   ]
  },
  {
   "cell_type": "code",
   "execution_count": 8,
   "metadata": {},
   "outputs": [
    {
     "output_type": "execute_result",
     "data": {
      "text/plain": "0    related    request    offer    aid_related    medical_help  \\\n0  related-1  request-0  offer-0  aid_related-0  medical_help-0   \n1  related-1  request-0  offer-0  aid_related-1  medical_help-0   \n2  related-1  request-0  offer-0  aid_related-0  medical_help-0   \n3  related-1  request-1  offer-0  aid_related-1  medical_help-0   \n4  related-1  request-0  offer-0  aid_related-0  medical_help-0   \n\n0    medical_products    search_and_rescue    security    military  \\\n0  medical_products-0  search_and_rescue-0  security-0  military-0   \n1  medical_products-0  search_and_rescue-0  security-0  military-0   \n2  medical_products-0  search_and_rescue-0  security-0  military-0   \n3  medical_products-1  search_and_rescue-0  security-0  military-0   \n4  medical_products-0  search_and_rescue-0  security-0  military-0   \n\n0    child_alone  ...    aid_centers    other_infrastructure  \\\n0  child_alone-0  ...  aid_centers-0  other_infrastructure-0   \n1  child_alone-0  ...  aid_centers-0  other_infrastructure-0   \n2  child_alone-0  ...  aid_centers-0  other_infrastructure-0   \n3  child_alone-0  ...  aid_centers-0  other_infrastructure-0   \n4  child_alone-0  ...  aid_centers-0  other_infrastructure-0   \n\n0    weather_related    floods    storm    fire    earthquake    cold  \\\n0  weather_related-0  floods-0  storm-0  fire-0  earthquake-0  cold-0   \n1  weather_related-1  floods-0  storm-1  fire-0  earthquake-0  cold-0   \n2  weather_related-0  floods-0  storm-0  fire-0  earthquake-0  cold-0   \n3  weather_related-0  floods-0  storm-0  fire-0  earthquake-0  cold-0   \n4  weather_related-0  floods-0  storm-0  fire-0  earthquake-0  cold-0   \n\n0    other_weather    direct_report  \n0  other_weather-0  direct_report-0  \n1  other_weather-0  direct_report-0  \n2  other_weather-0  direct_report-0  \n3  other_weather-0  direct_report-0  \n4  other_weather-0  direct_report-0  \n\n[5 rows x 36 columns]",
      "text/html": "<div>\n<style scoped>\n    .dataframe tbody tr th:only-of-type {\n        vertical-align: middle;\n    }\n\n    .dataframe tbody tr th {\n        vertical-align: top;\n    }\n\n    .dataframe thead th {\n        text-align: right;\n    }\n</style>\n<table border=\"1\" class=\"dataframe\">\n  <thead>\n    <tr style=\"text-align: right;\">\n      <th></th>\n      <th>related</th>\n      <th>request</th>\n      <th>offer</th>\n      <th>aid_related</th>\n      <th>medical_help</th>\n      <th>medical_products</th>\n      <th>search_and_rescue</th>\n      <th>security</th>\n      <th>military</th>\n      <th>child_alone</th>\n      <th>...</th>\n      <th>aid_centers</th>\n      <th>other_infrastructure</th>\n      <th>weather_related</th>\n      <th>floods</th>\n      <th>storm</th>\n      <th>fire</th>\n      <th>earthquake</th>\n      <th>cold</th>\n      <th>other_weather</th>\n      <th>direct_report</th>\n    </tr>\n  </thead>\n  <tbody>\n    <tr>\n      <td>0</td>\n      <td>related-1</td>\n      <td>request-0</td>\n      <td>offer-0</td>\n      <td>aid_related-0</td>\n      <td>medical_help-0</td>\n      <td>medical_products-0</td>\n      <td>search_and_rescue-0</td>\n      <td>security-0</td>\n      <td>military-0</td>\n      <td>child_alone-0</td>\n      <td>...</td>\n      <td>aid_centers-0</td>\n      <td>other_infrastructure-0</td>\n      <td>weather_related-0</td>\n      <td>floods-0</td>\n      <td>storm-0</td>\n      <td>fire-0</td>\n      <td>earthquake-0</td>\n      <td>cold-0</td>\n      <td>other_weather-0</td>\n      <td>direct_report-0</td>\n    </tr>\n    <tr>\n      <td>1</td>\n      <td>related-1</td>\n      <td>request-0</td>\n      <td>offer-0</td>\n      <td>aid_related-1</td>\n      <td>medical_help-0</td>\n      <td>medical_products-0</td>\n      <td>search_and_rescue-0</td>\n      <td>security-0</td>\n      <td>military-0</td>\n      <td>child_alone-0</td>\n      <td>...</td>\n      <td>aid_centers-0</td>\n      <td>other_infrastructure-0</td>\n      <td>weather_related-1</td>\n      <td>floods-0</td>\n      <td>storm-1</td>\n      <td>fire-0</td>\n      <td>earthquake-0</td>\n      <td>cold-0</td>\n      <td>other_weather-0</td>\n      <td>direct_report-0</td>\n    </tr>\n    <tr>\n      <td>2</td>\n      <td>related-1</td>\n      <td>request-0</td>\n      <td>offer-0</td>\n      <td>aid_related-0</td>\n      <td>medical_help-0</td>\n      <td>medical_products-0</td>\n      <td>search_and_rescue-0</td>\n      <td>security-0</td>\n      <td>military-0</td>\n      <td>child_alone-0</td>\n      <td>...</td>\n      <td>aid_centers-0</td>\n      <td>other_infrastructure-0</td>\n      <td>weather_related-0</td>\n      <td>floods-0</td>\n      <td>storm-0</td>\n      <td>fire-0</td>\n      <td>earthquake-0</td>\n      <td>cold-0</td>\n      <td>other_weather-0</td>\n      <td>direct_report-0</td>\n    </tr>\n    <tr>\n      <td>3</td>\n      <td>related-1</td>\n      <td>request-1</td>\n      <td>offer-0</td>\n      <td>aid_related-1</td>\n      <td>medical_help-0</td>\n      <td>medical_products-1</td>\n      <td>search_and_rescue-0</td>\n      <td>security-0</td>\n      <td>military-0</td>\n      <td>child_alone-0</td>\n      <td>...</td>\n      <td>aid_centers-0</td>\n      <td>other_infrastructure-0</td>\n      <td>weather_related-0</td>\n      <td>floods-0</td>\n      <td>storm-0</td>\n      <td>fire-0</td>\n      <td>earthquake-0</td>\n      <td>cold-0</td>\n      <td>other_weather-0</td>\n      <td>direct_report-0</td>\n    </tr>\n    <tr>\n      <td>4</td>\n      <td>related-1</td>\n      <td>request-0</td>\n      <td>offer-0</td>\n      <td>aid_related-0</td>\n      <td>medical_help-0</td>\n      <td>medical_products-0</td>\n      <td>search_and_rescue-0</td>\n      <td>security-0</td>\n      <td>military-0</td>\n      <td>child_alone-0</td>\n      <td>...</td>\n      <td>aid_centers-0</td>\n      <td>other_infrastructure-0</td>\n      <td>weather_related-0</td>\n      <td>floods-0</td>\n      <td>storm-0</td>\n      <td>fire-0</td>\n      <td>earthquake-0</td>\n      <td>cold-0</td>\n      <td>other_weather-0</td>\n      <td>direct_report-0</td>\n    </tr>\n  </tbody>\n</table>\n<p>5 rows × 36 columns</p>\n</div>"
     },
     "metadata": {},
     "execution_count": 8
    }
   ],
   "source": [
    "# rename the columns of `categories`\n",
    "categories.columns = category_colnames\n",
    "categories.head()"
   ]
  },
  {
   "cell_type": "markdown",
   "metadata": {},
   "source": [
    "### 4. Convert category values to just numbers 0 or 1."
   ]
  },
  {
   "cell_type": "code",
   "execution_count": 9,
   "metadata": {},
   "outputs": [
    {
     "output_type": "execute_result",
     "data": {
      "text/plain": "0  related  request  offer  aid_related  medical_help  medical_products  \\\n0        1        0      0            0             0                 0   \n1        1        0      0            1             0                 0   \n2        1        0      0            0             0                 0   \n3        1        1      0            1             0                 1   \n4        1        0      0            0             0                 0   \n\n0  search_and_rescue  security  military  child_alone  ...  aid_centers  \\\n0                  0         0         0            0  ...            0   \n1                  0         0         0            0  ...            0   \n2                  0         0         0            0  ...            0   \n3                  0         0         0            0  ...            0   \n4                  0         0         0            0  ...            0   \n\n0  other_infrastructure  weather_related  floods  storm  fire  earthquake  \\\n0                     0                0       0      0     0           0   \n1                     0                1       0      1     0           0   \n2                     0                0       0      0     0           0   \n3                     0                0       0      0     0           0   \n4                     0                0       0      0     0           0   \n\n0  cold  other_weather  direct_report  \n0     0              0              0  \n1     0              0              0  \n2     0              0              0  \n3     0              0              0  \n4     0              0              0  \n\n[5 rows x 36 columns]",
      "text/html": "<div>\n<style scoped>\n    .dataframe tbody tr th:only-of-type {\n        vertical-align: middle;\n    }\n\n    .dataframe tbody tr th {\n        vertical-align: top;\n    }\n\n    .dataframe thead th {\n        text-align: right;\n    }\n</style>\n<table border=\"1\" class=\"dataframe\">\n  <thead>\n    <tr style=\"text-align: right;\">\n      <th></th>\n      <th>related</th>\n      <th>request</th>\n      <th>offer</th>\n      <th>aid_related</th>\n      <th>medical_help</th>\n      <th>medical_products</th>\n      <th>search_and_rescue</th>\n      <th>security</th>\n      <th>military</th>\n      <th>child_alone</th>\n      <th>...</th>\n      <th>aid_centers</th>\n      <th>other_infrastructure</th>\n      <th>weather_related</th>\n      <th>floods</th>\n      <th>storm</th>\n      <th>fire</th>\n      <th>earthquake</th>\n      <th>cold</th>\n      <th>other_weather</th>\n      <th>direct_report</th>\n    </tr>\n  </thead>\n  <tbody>\n    <tr>\n      <td>0</td>\n      <td>1</td>\n      <td>0</td>\n      <td>0</td>\n      <td>0</td>\n      <td>0</td>\n      <td>0</td>\n      <td>0</td>\n      <td>0</td>\n      <td>0</td>\n      <td>0</td>\n      <td>...</td>\n      <td>0</td>\n      <td>0</td>\n      <td>0</td>\n      <td>0</td>\n      <td>0</td>\n      <td>0</td>\n      <td>0</td>\n      <td>0</td>\n      <td>0</td>\n      <td>0</td>\n    </tr>\n    <tr>\n      <td>1</td>\n      <td>1</td>\n      <td>0</td>\n      <td>0</td>\n      <td>1</td>\n      <td>0</td>\n      <td>0</td>\n      <td>0</td>\n      <td>0</td>\n      <td>0</td>\n      <td>0</td>\n      <td>...</td>\n      <td>0</td>\n      <td>0</td>\n      <td>1</td>\n      <td>0</td>\n      <td>1</td>\n      <td>0</td>\n      <td>0</td>\n      <td>0</td>\n      <td>0</td>\n      <td>0</td>\n    </tr>\n    <tr>\n      <td>2</td>\n      <td>1</td>\n      <td>0</td>\n      <td>0</td>\n      <td>0</td>\n      <td>0</td>\n      <td>0</td>\n      <td>0</td>\n      <td>0</td>\n      <td>0</td>\n      <td>0</td>\n      <td>...</td>\n      <td>0</td>\n      <td>0</td>\n      <td>0</td>\n      <td>0</td>\n      <td>0</td>\n      <td>0</td>\n      <td>0</td>\n      <td>0</td>\n      <td>0</td>\n      <td>0</td>\n    </tr>\n    <tr>\n      <td>3</td>\n      <td>1</td>\n      <td>1</td>\n      <td>0</td>\n      <td>1</td>\n      <td>0</td>\n      <td>1</td>\n      <td>0</td>\n      <td>0</td>\n      <td>0</td>\n      <td>0</td>\n      <td>...</td>\n      <td>0</td>\n      <td>0</td>\n      <td>0</td>\n      <td>0</td>\n      <td>0</td>\n      <td>0</td>\n      <td>0</td>\n      <td>0</td>\n      <td>0</td>\n      <td>0</td>\n    </tr>\n    <tr>\n      <td>4</td>\n      <td>1</td>\n      <td>0</td>\n      <td>0</td>\n      <td>0</td>\n      <td>0</td>\n      <td>0</td>\n      <td>0</td>\n      <td>0</td>\n      <td>0</td>\n      <td>0</td>\n      <td>...</td>\n      <td>0</td>\n      <td>0</td>\n      <td>0</td>\n      <td>0</td>\n      <td>0</td>\n      <td>0</td>\n      <td>0</td>\n      <td>0</td>\n      <td>0</td>\n      <td>0</td>\n    </tr>\n  </tbody>\n</table>\n<p>5 rows × 36 columns</p>\n</div>"
     },
     "metadata": {},
     "execution_count": 9
    }
   ],
   "source": [
    "for column in categories:\n",
    "    # set each value to be the last character of the string\n",
    "    categories[column] = categories[column].astype(str).str[-1]    \n",
    "    # convert column from string to numeric\n",
    "    categories[column] = pd.to_numeric(categories[column])\n",
    "categories.head()"
   ]
  },
  {
   "cell_type": "markdown",
   "metadata": {},
   "source": [
    "### 5. Replace `categories` column in `df` with new category columns.\n",
    "- Drop the categories column from the df dataframe since it is no longer needed.\n",
    "- Concatenate df and categories data frames."
   ]
  },
  {
   "cell_type": "code",
   "execution_count": 10,
   "metadata": {},
   "outputs": [
    {
     "output_type": "execute_result",
     "data": {
      "text/plain": "   id                                            message  \\\n0   2  Weather update - a cold front from Cuba that c...   \n1   7            Is the Hurricane over or is it not over   \n2   8                    Looking for someone but no name   \n3   9  UN reports Leogane 80-90 destroyed. Only Hospi...   \n4  12  says: west side of Haiti, rest of the country ...   \n\n                                            original   genre  \n0  Un front froid se retrouve sur Cuba ce matin. ...  direct  \n1                 Cyclone nan fini osinon li pa fini  direct  \n2  Patnm, di Maryani relem pou li banm nouvel li ...  direct  \n3  UN reports Leogane 80-90 destroyed. Only Hospi...  direct  \n4  facade ouest d Haiti et le reste du pays aujou...  direct  ",
      "text/html": "<div>\n<style scoped>\n    .dataframe tbody tr th:only-of-type {\n        vertical-align: middle;\n    }\n\n    .dataframe tbody tr th {\n        vertical-align: top;\n    }\n\n    .dataframe thead th {\n        text-align: right;\n    }\n</style>\n<table border=\"1\" class=\"dataframe\">\n  <thead>\n    <tr style=\"text-align: right;\">\n      <th></th>\n      <th>id</th>\n      <th>message</th>\n      <th>original</th>\n      <th>genre</th>\n    </tr>\n  </thead>\n  <tbody>\n    <tr>\n      <td>0</td>\n      <td>2</td>\n      <td>Weather update - a cold front from Cuba that c...</td>\n      <td>Un front froid se retrouve sur Cuba ce matin. ...</td>\n      <td>direct</td>\n    </tr>\n    <tr>\n      <td>1</td>\n      <td>7</td>\n      <td>Is the Hurricane over or is it not over</td>\n      <td>Cyclone nan fini osinon li pa fini</td>\n      <td>direct</td>\n    </tr>\n    <tr>\n      <td>2</td>\n      <td>8</td>\n      <td>Looking for someone but no name</td>\n      <td>Patnm, di Maryani relem pou li banm nouvel li ...</td>\n      <td>direct</td>\n    </tr>\n    <tr>\n      <td>3</td>\n      <td>9</td>\n      <td>UN reports Leogane 80-90 destroyed. Only Hospi...</td>\n      <td>UN reports Leogane 80-90 destroyed. Only Hospi...</td>\n      <td>direct</td>\n    </tr>\n    <tr>\n      <td>4</td>\n      <td>12</td>\n      <td>says: west side of Haiti, rest of the country ...</td>\n      <td>facade ouest d Haiti et le reste du pays aujou...</td>\n      <td>direct</td>\n    </tr>\n  </tbody>\n</table>\n</div>"
     },
     "metadata": {},
     "execution_count": 10
    }
   ],
   "source": [
    "# drop the original categories column from `df`\n",
    "df.drop(['categories']\n",
    "       ,axis = 1\n",
    "       ,inplace = True)\n",
    "df.head()"
   ]
  },
  {
   "cell_type": "code",
   "execution_count": 11,
   "metadata": {},
   "outputs": [
    {
     "output_type": "execute_result",
     "data": {
      "text/plain": "   id                                            message  \\\n0   2  Weather update - a cold front from Cuba that c...   \n1   7            Is the Hurricane over or is it not over   \n2   8                    Looking for someone but no name   \n3   9  UN reports Leogane 80-90 destroyed. Only Hospi...   \n4  12  says: west side of Haiti, rest of the country ...   \n\n                                            original   genre  related  \\\n0  Un front froid se retrouve sur Cuba ce matin. ...  direct        1   \n1                 Cyclone nan fini osinon li pa fini  direct        1   \n2  Patnm, di Maryani relem pou li banm nouvel li ...  direct        1   \n3  UN reports Leogane 80-90 destroyed. Only Hospi...  direct        1   \n4  facade ouest d Haiti et le reste du pays aujou...  direct        1   \n\n   request  offer  aid_related  medical_help  medical_products  ...  \\\n0        0      0            0             0                 0  ...   \n1        0      0            1             0                 0  ...   \n2        0      0            0             0                 0  ...   \n3        1      0            1             0                 1  ...   \n4        0      0            0             0                 0  ...   \n\n   aid_centers  other_infrastructure  weather_related  floods  storm  fire  \\\n0            0                     0                0       0      0     0   \n1            0                     0                1       0      1     0   \n2            0                     0                0       0      0     0   \n3            0                     0                0       0      0     0   \n4            0                     0                0       0      0     0   \n\n   earthquake  cold  other_weather  direct_report  \n0           0     0              0              0  \n1           0     0              0              0  \n2           0     0              0              0  \n3           0     0              0              0  \n4           0     0              0              0  \n\n[5 rows x 40 columns]",
      "text/html": "<div>\n<style scoped>\n    .dataframe tbody tr th:only-of-type {\n        vertical-align: middle;\n    }\n\n    .dataframe tbody tr th {\n        vertical-align: top;\n    }\n\n    .dataframe thead th {\n        text-align: right;\n    }\n</style>\n<table border=\"1\" class=\"dataframe\">\n  <thead>\n    <tr style=\"text-align: right;\">\n      <th></th>\n      <th>id</th>\n      <th>message</th>\n      <th>original</th>\n      <th>genre</th>\n      <th>related</th>\n      <th>request</th>\n      <th>offer</th>\n      <th>aid_related</th>\n      <th>medical_help</th>\n      <th>medical_products</th>\n      <th>...</th>\n      <th>aid_centers</th>\n      <th>other_infrastructure</th>\n      <th>weather_related</th>\n      <th>floods</th>\n      <th>storm</th>\n      <th>fire</th>\n      <th>earthquake</th>\n      <th>cold</th>\n      <th>other_weather</th>\n      <th>direct_report</th>\n    </tr>\n  </thead>\n  <tbody>\n    <tr>\n      <td>0</td>\n      <td>2</td>\n      <td>Weather update - a cold front from Cuba that c...</td>\n      <td>Un front froid se retrouve sur Cuba ce matin. ...</td>\n      <td>direct</td>\n      <td>1</td>\n      <td>0</td>\n      <td>0</td>\n      <td>0</td>\n      <td>0</td>\n      <td>0</td>\n      <td>...</td>\n      <td>0</td>\n      <td>0</td>\n      <td>0</td>\n      <td>0</td>\n      <td>0</td>\n      <td>0</td>\n      <td>0</td>\n      <td>0</td>\n      <td>0</td>\n      <td>0</td>\n    </tr>\n    <tr>\n      <td>1</td>\n      <td>7</td>\n      <td>Is the Hurricane over or is it not over</td>\n      <td>Cyclone nan fini osinon li pa fini</td>\n      <td>direct</td>\n      <td>1</td>\n      <td>0</td>\n      <td>0</td>\n      <td>1</td>\n      <td>0</td>\n      <td>0</td>\n      <td>...</td>\n      <td>0</td>\n      <td>0</td>\n      <td>1</td>\n      <td>0</td>\n      <td>1</td>\n      <td>0</td>\n      <td>0</td>\n      <td>0</td>\n      <td>0</td>\n      <td>0</td>\n    </tr>\n    <tr>\n      <td>2</td>\n      <td>8</td>\n      <td>Looking for someone but no name</td>\n      <td>Patnm, di Maryani relem pou li banm nouvel li ...</td>\n      <td>direct</td>\n      <td>1</td>\n      <td>0</td>\n      <td>0</td>\n      <td>0</td>\n      <td>0</td>\n      <td>0</td>\n      <td>...</td>\n      <td>0</td>\n      <td>0</td>\n      <td>0</td>\n      <td>0</td>\n      <td>0</td>\n      <td>0</td>\n      <td>0</td>\n      <td>0</td>\n      <td>0</td>\n      <td>0</td>\n    </tr>\n    <tr>\n      <td>3</td>\n      <td>9</td>\n      <td>UN reports Leogane 80-90 destroyed. Only Hospi...</td>\n      <td>UN reports Leogane 80-90 destroyed. Only Hospi...</td>\n      <td>direct</td>\n      <td>1</td>\n      <td>1</td>\n      <td>0</td>\n      <td>1</td>\n      <td>0</td>\n      <td>1</td>\n      <td>...</td>\n      <td>0</td>\n      <td>0</td>\n      <td>0</td>\n      <td>0</td>\n      <td>0</td>\n      <td>0</td>\n      <td>0</td>\n      <td>0</td>\n      <td>0</td>\n      <td>0</td>\n    </tr>\n    <tr>\n      <td>4</td>\n      <td>12</td>\n      <td>says: west side of Haiti, rest of the country ...</td>\n      <td>facade ouest d Haiti et le reste du pays aujou...</td>\n      <td>direct</td>\n      <td>1</td>\n      <td>0</td>\n      <td>0</td>\n      <td>0</td>\n      <td>0</td>\n      <td>0</td>\n      <td>...</td>\n      <td>0</td>\n      <td>0</td>\n      <td>0</td>\n      <td>0</td>\n      <td>0</td>\n      <td>0</td>\n      <td>0</td>\n      <td>0</td>\n      <td>0</td>\n      <td>0</td>\n    </tr>\n  </tbody>\n</table>\n<p>5 rows × 40 columns</p>\n</div>"
     },
     "metadata": {},
     "execution_count": 11
    }
   ],
   "source": [
    "# concatenate the original dataframe with the new `categories` dataframe\n",
    "df = pd.concat([df, categories]\n",
    "              ,axis = 1\n",
    "              ,sort = False)\n",
    "df.head()"
   ]
  },
  {
   "cell_type": "markdown",
   "metadata": {},
   "source": [
    "### 6. Remove duplicates.\n",
    "- Check how many duplicates are in this dataset.\n",
    "- Drop the duplicates.\n",
    "- Confirm duplicates were removed."
   ]
  },
  {
   "cell_type": "code",
   "execution_count": 12,
   "metadata": {},
   "outputs": [
    {
     "output_type": "stream",
     "name": "stdout",
     "text": "There are: 170 duplicated rows in the dataframe.\nThere are: 206 duplicated id's in the dataframe.\nThere are: 209 duplicated messages's in the dataframe.\n"
    }
   ],
   "source": [
    "# check number of duplicate rows\n",
    "print('There are:', df.duplicated().sum(), 'duplicated rows in the dataframe.')\n",
    "# check number of duplicate id's\n",
    "print('There are:', df['id'].duplicated().sum(), 'duplicated id\\'s in the dataframe.')\n",
    "# check number of duplicate messages\n",
    "print('There are:', df['message'].duplicated().sum(), 'duplicated messages\\'s in the dataframe.')\n",
    ""
   ]
  },
  {
   "cell_type": "code",
   "execution_count": 13,
   "metadata": {},
   "outputs": [],
   "source": [
    "# drop duplicate rows\n",
    "df.drop_duplicates(keep = 'first'\n",
    "                  ,inplace = True)\n",
    "\n",
    "# drop duplicates with the same id's\n",
    "df.drop_duplicates(subset = ['id']\n",
    "                  ,inplace = True)\n",
    "\n",
    "# drop duplicates with the same messages\n",
    "df.drop_duplicates(subset = ['message']\n",
    "                  ,keep = False\n",
    "                  ,inplace = True)"
   ]
  },
  {
   "cell_type": "code",
   "execution_count": 14,
   "metadata": {},
   "outputs": [
    {
     "output_type": "stream",
     "name": "stdout",
     "text": "There are: 0 duplicated rows in the dataframe.\nThere are: 0 duplicated id's in the dataframe.\nThere are: 0 duplicated messages in the dataframe.\n"
    }
   ],
   "source": [
    "# check number of duplicates\n",
    "print('There are:', df.duplicated().sum(), 'duplicated rows in the dataframe.')\n",
    "print('There are:', df['id'].duplicated().sum(), 'duplicated id\\'s in the dataframe.')\n",
    "print('There are:', df['message'].duplicated().sum(), 'duplicated messages in the dataframe.')"
   ]
  },
  {
   "cell_type": "markdown",
   "metadata": {},
   "source": [
    "### 7. Check for inconsistencies in all target columns\n",
    "\n",
    "#### Observations\n",
    "\n",
    "    * Child_alone column doesn't contain any valuable information\n",
    "    * Related column contain rows with value == 2\n",
    "    \n",
    "#### Decisions on current Observations\n",
    "\n",
    "    * Drop child_alone column\n",
    "    * Further study rows where related == 2"
   ]
  },
  {
   "cell_type": "code",
   "execution_count": 15,
   "metadata": {},
   "outputs": [
    {
     "output_type": "execute_result",
     "data": {
      "text/plain": "0\nchild_alone               0\ndeath                     1\ntransport                 1\nbuildings                 1\nelectricity               1\ntools                     1\nhospitals                 1\nshops                     1\naid_centers               1\nother_infrastructure      1\nweather_related           1\nfloods                    1\nstorm                     1\nfire                      1\nearthquake                1\ncold                      1\ninfrastructure_related    1\nother_aid                 1\ndirect_report             1\nrefugees                  1\nrequest                   1\noffer                     1\naid_related               1\nmedical_help              1\nmedical_products          1\nsearch_and_rescue         1\nother_weather             1\nsecurity                  1\nwater                     1\nfood                      1\nshelter                   1\nclothing                  1\nmoney                     1\nmissing_people            1\nmilitary                  1\nrelated                   2\ndtype: int64"
     },
     "metadata": {},
     "execution_count": 15
    }
   ],
   "source": [
    "categories.max().sort_values() # max values in the categories columns"
   ]
  },
  {
   "cell_type": "code",
   "execution_count": 16,
   "metadata": {},
   "outputs": [
    {
     "output_type": "stream",
     "name": "stdout",
     "text": "(26176, 40)\n(26176, 39)\n"
    }
   ],
   "source": [
    "# drop the child_alone column from df\n",
    "print(df.shape)\n",
    "df.drop(['child_alone']\n",
    "       ,axis = 1\n",
    "       ,inplace = True)\n",
    "print(df.shape)"
   ]
  },
  {
   "cell_type": "markdown",
   "metadata": {},
   "source": [
    "#### Observations\n",
    "- Most of the messages with related value == 2 are in different languages than english\n",
    "#### Decisions on current Observations\n",
    "-  Deciding to drop all rows with related == 2"
   ]
  },
  {
   "cell_type": "code",
   "execution_count": 17,
   "metadata": {},
   "outputs": [
    {
     "output_type": "execute_result",
     "data": {
      "text/plain": " citizens live here that all will be ok and that everyone ( could be the world ) hurrying to try to make us survive.\",\n 'This is my address : Cersine 8 Prolong. .. . ',\n 'I would like to have some information on the last disaster',\n \"No location : Ou se trouve l'ambassade du Sngal en Haiti\",\n \"Je veux savoir comment je peux obtenir de l'aide pour mon orphelinat situ  Delmas 31, svp dites-moi ce que je dois faire\",\n '142, Ruelle Beaulieu, Mon Repos 44 Carrefour ',\n '. ..  Esdras. Address : Solidarit Village, Toussain Louverture Street 83A!',\n 'Route des dalles prolonges #277 after Morne Jean-Pierre, thank you do. ..  ',\n 'we are in rue Dessalines Petit goaves and it necessary to..? ',\n 'I am very happy to get the messages that tell me about the precautions I have to take. Thank you very much, If you could make it so that food comes my way it would be good because .. ',\n 'mouin vle kite ayiti depi kek jou. ',\n 'Mwen ta renmen jwenn yon djb. ske gen posiblite pou mwen jwenn li? Kisa ou ka f pou ede mwen? Mwen bezwen savis ou. ',\n \"(Delmas 33 Charboniere infomatyon s'il vous plait.) \",\n 'Carrefour Feuille rue Mgr Prol # 39 ',\n 'Ede m nan lort pou genyen yon bourss ',\n 'mwen ta renmen gen enfmasyon sou siklyn nan peyi mwen ',\n 'jel2  Acte 5: 29 2chr7 Lev11 Ecl9 Ecl4 jos5 ch102kr Es59 ',\n \"I'd like to know after this drama, will there be anywhere that I may see a psychologist, who maybe available because I have \",\n 'gjm.adgjmpgjm.adgjmgjmgjmgjmgjmgkmptwptwptwptwptwptwptwptwptwptwpwptwptwgjmgjmgjmad.ad.ad.ad.d.ad.d.da.d.ad.ad.ad ',\n 'are what the imigration restarts has make of them pass-port for people that not of pass-port ',\n 'mwen besoin dlo avek mange na zon bon repos, lilavois ',\n 'Damocles!Hracles!Philockles!Hyphocles.!yayecles!zigzacles!domagecles!lucles!77h  ',\n \"The SMS:  Evitons 2 traiter 1 tas bLaissons 2 cot 7 kesyon. Ke tu sois direct tais notre mach conclus 2 c matin. J't'attends  \",\n 'Midi Estimene:rue Lambert Prolongee and rue Merilus #4 (Petion-ville) ',\n 'Amoni se Richi: Rue Raphael et Cerisier (Petion Ville) ',\n ' 9GeQYeYGQEQtm  ',\n 'annot ni batiman dada cheri se pwason ni ou ni manmi w ni keti renmen an pil la wi se yon gro rat at yon gro kwapo kitap batay lasirne f tranf pou tou ',\n '0H 8@@ @2x @e8x3 xr     ',\n 'http://wap.sina.comhttp://wap.sina.com ',\n 'Wesantyahoo.fr.Pepayisenyahoo.fr ',\n '//// // @:@ ',\n 'NOTES: this message is not complete',\n 'f k yo ap mal viv nan ansagal lagonav.msi.  ',\n '8 @9q@@  5 m) 1A a!a ?aCYCLONE  ',\n \"/''''''''@''''''''''''''''@ @''''' michou )) ''''''''''''cyclone.  \",\n 'I@UU#UTGa UTUUUXU  UU@UU@UUp U. ',\n \"Good evening to all parts of the United Nations so I remsiw Adra, Spain because I see something to bring 250 people found the four towels soap Cink had a six ice all very much pleased the United Nations kounya other things I'm waiting for luggage next to Always on baylode. \",\n 'Pal kraze preval di pa gen pwoblem, pal jistis kraze preval di sa te dwe kraze 2ja paske pat janm gen jistis, yo di kleren lakay ak rhum barbancourt kraze preval met 2 men nan tt li rele anmwey pa gen peyi ank. ',\n \"0Tranbleman t aH 8@@ @2x @e8x3 xr    ' Gv?e?0   \",\n \"The SMS:  Rezilta Bak la sot bay 12 Janvye a nan lekl la vi a. Men kman l tonbe: Moun ki mouri nan dezobeyisans yo: Elimine Moun ki mouri anba pouvwa Bondye yo: Admi e rs moun ki rete yo ajoune. Pa bliye egzamen moun ajoune yo p'ap two lwen pou'l ft, degaj  \",\n 'Aa.Bb.Cc.Dd.Ee.Ff.Gg.Hh.Ii.Jj.Kk.Ll.Mm.Nn.Oo.Pp.Qq.Rr.Ss.Tt.Uu.Vv.Ww.Xx.Yy.Zz.KERLANGE. ',\n '3 mamit chabon,4 dola poban,kart,pn 2 t,kreson,tomat. ',\n 'Mato30 Nivo60 Tiwl30 Ficel22 Ek49 ',\n 'Bonjou fr Louko mwen se simon st.pierre map koute radio 1 nan boukan-chat map mandew svp pouw salye moun sayo pou mwen: Eunide Elissain, wiskender st.pierre,et jesual st.pierre,alyas pipirit, kap koute radyo a chapotin. Msi. ',\n '2O TRI PYE, 5 POIRO, 2GD PESI, 1OMORU, 5LAY3DOLA SITWON ',\n 'Prcaussion cons of the aspen earth ',\n 'Zb rmd : dl 2, dl rep, dl chase ',\n 'Zb rmd : dl c.lve dl 2, dl rep, dl chase. ',\n 'please, we would like to know if itis true thereas in the moment. ',\n 'NOTES: This message is not complete, it is not necessary to translate it.',\n 'NOTES: This message mark not enough information.',\n 'Word Hurricane and earthquake ',\n 'Wpltjgdtm pwjtj ptjg. T .)tgjpg(uk ',\n 'Tegen tranblement land kite yon pase nan north country of haiti sete year 1842 Bulan interest unknown ',\n '0H4Z(Z x(@zf0 ?!?@x PrxP0c6 ',\n 'RT lucasrohan Tem alguma coisa do Haiti? T u00f4 acomapanhando a lista nprnews haiti earthquake t u00e1 ca u00f3tico t u00e1 um horror l u00e1',\n 'RT paipibat RT Teelek Flickr paipibat u0e15 u0e34 u0e14 u0e15 u0e32 u0e21 u0e20 u0e32 u0e1e u0e08 u0e32 u0e01 u0e40 u0e1e u0e34 u0e48 u0e21 u0e40 u0e15 u0e34 u0e21 u0e08 u0e32 u0e01 Flickr u0e44 u0e14 u0e49 u0e17 u0e35 u0e48 u0e19 u0e35 u0e48 u0e04 u0e23 u0e31 u0e1a http bit.ly 60OxGS #Haiti #Earthquake',\n 'alhamdulillah sekarang udah jarang Earthquake lagi',\n 'RT Fleegerian_Akin RT ShanCali Earthquake in carribean I feel sorry 4 dem ppl in hatti da whole island is basi cont http tl.gd 3g8mi',\n 'Haiti Earthquake Earthquake Hits Haiti C est tre tres rare que trembleme. http bit.ly 53Z4gm n Got News? Add It!',\n 'RT Contentgirls earthquake heeft mensen wel wakker gekregen maar is niet zwaar. Even benadrukken voor het geval iemand familie heeft o ..',\n 'Contentgirls gelukkig earthquake niet te zwaar Aruba Antillen. Heb jij er familie?',\n 'Gismis pallas_ploem earthquake heeft mensen wel wakker gekregen maar is niet zwaar. via Contentgirls',\n 'RT mHefneratm RT LoSoATM What happened n HaiTi ??&gt Da Whole Situation turn ugly! Xhi Xhi.. Lmao Nah a earthquake! WrD! $hyT Brazzi',\n \"Cara, eu to m‚àö‚â§ tenso, quero saber se minha prima e minha tia estao bem com esse terremoto '-' elas moram en Santiago no Chile &gt;.&lt;\",\n 'la probabilidad advertida: Interseismic strain accumulation measured by GPS in the seismic gap between Constituci‚àö‚â•n and Concepci‚àö‚â•n in Chile',\n 'martelozzo Eu n‚àö¬£o to em Santa Cruz do Rioooooo Parrrrrrdoooo.. haushasua',\n 'ii_Santos Ah que legal.. Deve ser bem bacana trabalhar l‚àö¬∞.. eu to numa produtora de cinema l‚àö¬∞ perto do metr‚àö¬• santa cruz',\n 'On My Way To SantiagO with the team . PhOtOshOt mOde On . ;) En pistaaaaaaaa',\n 'Nem comentei, sabado fui na santa cruz .. Nem todo sabado eu to la mas a batalha ainda ‚àö¬© real',\n 'RT VN24H: LUZ EN CONCEPCI‚àö√¨N: Gerente de CGE: Hay 30% de luz en #concepci‚àö‚â•n #talcahuano. En 72 horas debiera estar restablecido casi to ..',\n 'elipepolesi @vivisabetudo po to sempre do lado do metro santa cruz na republica dos brother . festinhaa',\n 'aguinho89 Adding the 2010 S‚àö¬£o Tom‚àö¬© (with my rating 0 of 5) to my isopor com gelo! #amywine brincadeira, amo vinho e adoro suas dicas, abs',\n 'ikael_Santiago pode crer.. vou ler mais tarde pq to de saida ai posto aqui.. vlw brother!',\n 'RT atiasasun: #facts El cierre de los liceos de Santiago y otros debilita un alzamiento pinguino contra lavin // You got to be kidding me.',\n 'Utsatte turen til Santiago til i morgen, da broforbindelsen ble stengt for privattrafikk. Forst‚àöelse for at hjelpearbeid f‚àör prioritet.',\n 'De folga hoje, mas amanh‚àö¬£ to trabalhando no Arruda, para sofrer mais um pouco acompanhando o Santa Cruz. Haja cora‚àö√ü‚àö¬£o!',\n 'Concordo com o engenheiro de Santiago, quando eu for engenheira civil, pode deixar que eu vou inventar constru‚àö√ü‚àö¬µes fortes at‚àö¬© pra terremotos',\n 'odricao to em santiago, aqui nao houve tanto panico, mas as pessoas se assustam. eu estava em um pr‚àö¬©dio :-( #terremotochile',\n 'Boa noite.. Dake a poko to pegando a estrada.. vo p santiago conhecer E! &lt;3 *---*',\n 'Bem, se n‚àö¬£o caiu nem um copo do bar eu ja to mais tranquilo. Arrumando a mala e rumo a Santiago! Mengo estou sempre contigo!!!',\n 'limmby ‚àö¬© madrugada ! AUSHDUIAIUAS aah sakei qual eh! ‚àö¬© que eu to fazendo treinamento na facul impacta, Santa Cruz ai eu pensei que era la',\n 'uryAccordi tu ta em santa cruz neh to em rio grande :) amo santa cruz..gruta dos indios lindo demaisssssssssssss.. :)',\n 'mviick to ligada , santa cruz (: ja colei , rs',\n 'Pra completar, os torcedores do Santa Cruz que invadiram a comunidade amea‚àö√üaram dar porrada em quem for \\\\',\n 'lextriplex avisa a galera do blog que eu to aqui em Santiago tentando falar com eles desde sabado mas nao consigo logar nos coments daqui.',\n 'aio_gattuso to ouvindo Guilherme & Santiago. SAHUSAHASUHASUAS',\n 'Falta tan tan poco.. ¬¨¬¥Simply Red - Holding back the years¬¨¬™. Arena Santiago, de all‚àö¬∞ somos! Night.  http://blip.fm/~n0frf',\n 'Se o pessoal de SANTA CRUZ for t‚àö¬£o legal AO VIVO, como ‚àö¬© por TWITTER/ORKUT/FOTOLOG, essa sexta vai ser uma das mais legais da hist‚àö‚â•ria!',\n 'RT andatopaz: Se o pessoal de SANTA CRUZ for t‚àö¬£o legal AO VIVO, como ‚àö¬© por TWITTER/ORKUT/FOTOLOG, essa sexta vai ser uma das mais lega ..',\n 'Hamar         Ghair Sirkare Adare      krwao    kro    n kons Chez kons ilika   ky Chez? Plz    Sirkare (SRSO) Adara ( ) ( Crecent Hillah) Ahmar (Takhleeq foundition) (Pirbha',\n 'hmre vilage kachipul men flood ne bht nuksan kiya he hmra crop,hmre ghr aur hmra rozgar sbkch khtm hogya he mgr govt ne abi tk hmri koi help nhn ki he.',\n 'hmre vilage kachipul men flood ne bht nuksan kiya he hmra crop,hmre ghr aur hmra rozgar sbkch khtm hogya he mgr govt ne abi tk hmri koi help nhn ki he. Location:vilage kachipul distt:kambr shadadkot plz visit u city kachipul',\n 'WATAN.CARD ki dosri qist kab jari ho gi. KotAddu.MuzaffarGarh',\n '. Safiullah fadr a muhmmad shfi',\n 'bary mherbani meri madad ke jayee gaoon Gul khan laghari Talkio Khair Pure Nathan shah Distk Dadu sindhi U/C Kandi chukhi salleb zadgan no govt no orgnization no one please help me sender',\n 'NuFI H H K Please Help me vellage Gul khan laghari Talkio Khair Pure Nathan shah Distk Dadu sindhi U/C Kandi chukhi Flood loss victums Na goverment na help ki ha na kis Tanzam Na please hel',\n 'I am a poor man i have youngr children But the local government says i am not eligible to receve watan card please issue watan card on my C.N.I.C no.',\n '( Alaikum)    U / C Rojhan Sharqi     Rojhan       Saheja    tabah      Awam      Khudara hamary    Dhia   ',\n '(Meara nam qamadeen hea bassti bakhshali maoza wahmachka tahseel rojhan zella rajanpur hea na hamea watancard mlea our na hamea koi our amdad mela makanat our saman pani baha kar lea ghea hea.patwari halqa nea maoqa par tassweer bhe banaea.yah meara sh',\n 'Complaint against save the children is not visited to us basti sabqi wala p/o kotla mughlan teh Jampur',\n 'Distrct jamshoro lakhra   residentional          ,      ,      somethng  ',\n '. Saed. Khan. Tahsel. Jampr. Zela. Rajnpr. Ghali. Rakh. Azmt wala',\n ' bary silb zadgan.mir abo.   Alli halya sylab  wafat a gya  wo a fasl  dikh   ly      thiesil lyaqt   rahem     fasl  dikh  kly wahan       achank darye Chanab ',\n 'Iam Raees khan and iam very poor man.',\n 'Sukkur , ,    ,          ',\n 'Tahsel. jamur.    Rajanpur?',\n 'Tahsel,. . Jamur,. . D.s.s.,. . Rajanpur.',\n '100  persnt  Effecte     Nitionality K Righter          K       krt a plz   hamar  kro loct VILLAG CITY KACHIPUL Dist! Kamber Shahdad a  Qubo plz Vist  Kachipul ',\n 'KHALIL AHMAD AND M ASMIAL KOTLA MUGHLAN DISTREKT RAJANPUR TAHSEEL JAMPUR HAMARAY HAN PANEY 10 Fut HAMARAY EAT THA 100 FESAD steadfast KITTER Valon HAN HO GAY SAY KY stage 2 MARTBA RASHAN Mela 1 KAHEN SAY MAN CAMP KER Mang Laya BACHON HON MAN IS KO AUR CH',\n 'KHALIL AHMAD ARIAN KOTLA MUGHLAN TAHSEL JAMPUR DISTREKT RAJANPUR HIM NA PAHLAY BHI AP KO SMS KEYA THA AUR REPORT BHI DEY THE IS LAYA HIM AP KO PHIR YAD DELANA CHAHTA HAN K HIM AP K TAVON K MONTZIR HAN MAJBOR HAN IS LAYA BAR BAR SMS KER RAHAY HAN MAHIRB',\n '  kamea     kole asman K     ',\n 'Aijaz ahmed dit khairpur meirs thahsel nara vlage misale goth tajal shref yhan sind blochastan se 300khandan hm mojod han hman tkreban do mah se koi i',\n '  selab  waja sy a giya. I dobara  BNA sakta  mooshkil   shadeed. Mery 3 choty choty bachy    Waly shdeed',\n 'Mera ghar selab ki waja sy gir giya hy. aur dobara nahin bna sakta main shadeed mooshkil men hoon. mery 3 choty choty bachy aur baqi ghar waly shdeed sardi khaema mein guzarny par majboor hin. khdara ghar banany mein meri mdad kro. plz help me. khalil',\n 'Mera naam Abdul Aziz s/o Abdul karim hai.main dera Allah yaar mein rahta hoon.sailab ki wajah se jo tabahi hue hai.iss mein mera ghar bhi sailab ki nazar ho gaya hai.sailab ke baad hum besaro samaan pare hain.abhi tak humein kisi kisim ki imdad naheen',\n 'Ap ko aur ap k sare team ko Eid Mubarak ho?Sir Ap logon ko aik Request hai k sir aik bar ap hamar city mein aa kr visit kro ya to apna Nimaind behjo to hamare sub halat ke khaber malom hoge!Sir hazaron k tadad mein logo ko watan card be na mila jin ko',\n 'AURANG ZEB S/O GULAB DIN DIST MIANWALI TEH ESSA KHEL VIA KALA BAGH P/O TOLA MANGLI VILLAGE MUHABBAT KHEL sir may selab say motaser howa houn,leken mujy koi emdad wagera nhi mili,mujy omeed hai k ap meri madad zaroor fermaygy.shokria',\n 'BBC HELP LINE K TUFAIL MIN TEH.JAMPUR DISTT.RAJANPUR ALLAH ABAD S MUHAMMAD SADIQ SON OF RAHIM ALI FLOOD EFFECTED HON GHAR K KISI BHE BUNDY K NA HE WATAN CARD AUR NA HE KHORAK MILI HAMARI KISI MATLOBA BUNDY TAK RASI K JAEY JO PROBLEM KO SOLVE KR SEQY TH',\n 'most affacted areas in Punjab kot addu, jampur, kot mithan',\n '          .',\n 'muhammad iqbal son of mashal khan nic no0',\n 'thatta,         (, ,)    ',\n 'murad mae zauja khuda baksh basti ahmmad yar bakhshu bhattar dakkhana thul hamza teh liaqat pur dest r y khan please tell us that why woman watan card have not been made. please help us thank you',\n 'Murad mae zauja baksh Basti Khuda ahmmad yard bakhshu bhattar dakkhana liaqat tea thul Hamza Khan Pur dest ry hamen yeh aap keh ham bataen aurton k kiyon nahen native bane card please hamari madad kijye shukria',\n 'Muza rakh kan wah tahsil jam pur zila rajan pur yahan hamary 30 ghar mujud hayn hamar na hakumt ny kui amdad ki hay na kui inguz waley ay hain awr na hmen watn kard melen hayn hamari guzaresh hamary ailaky dura karen',\n ' ShahZaib   Kachipul,  Aqwame Muthida  apeel   Hamare     pareshane BRT  , Berozgare Badhale Plz    apeel      n !      Khad a  Wo Kisano     Wo      ',\n 'district sms kambar shahdadkot tullka qubo council hazarwah deh seer dakhan village himath ali chandio safdar ali chandio',\n '                           ',\n '  WAJA          TAHSEEL  KHAIRO  JACAB  , SA  ,  ,    AABAD   APEEL MADAD',\n ' MUTASER ',\n 'Pr Sahil Khan of Peshawar Ap kaisi teak hi how programe Acha hai meri chalta level ap sub se ko salam team (khuda hafiz',\n 'saed khan rakh azmt wala tahsel jampy dss rajanpur punjab',\n 'Ghulam Ali Zardari. Village:Qurban Ali Zardari. Taluka Sujawal District:Thatta. Sindh.',\n \"Sajid Ullah Khan s / o'Faiz Ullah Khan\",\n 'Sajid ULLAH Khan s/oFaiz ULLAH Khan',\n 'sajjad ali son of Ghulam yasin city.khair pur nathan shah province sindh pakistan.',\n '.  /    khairo Disctt. Jacobabad.',\n 'selab 2 kamre tabah kardia     melap pls a ',\n 'shamsher haider mirani moza sumra nashaib janoobi',\n 'SIR WE REUEST YOU UN PEORLE BE JUST AND REALISE WHO IS EFFECTED AND WHO IS NOT. IF YOU REALLY WANT TO HELP THE EFFECTED ONES THEN..',\n 'SULTAN AHMAD S / O Ahmad Yar Basti Dera AHMADYAR BHATTER DAKKHANA FAREEDI TEA Liaqat RY KHAN PUR DEST MERA Watan CARD NAHEN Bana BARAE MAHERBANI AAP MUJHAY BHE Watan Shukri DEN DAY CARD',\n \"   MAOZA          U  REP '\",\n 'SYED EJAZ BUKHARI MAOZA SHAH WALI TEHSIL ALI PUR DISTT MUZAFAR GARH IF U HAVE UR REP',\n 'TAUSEEF KHAN S/O AKBAR DIN MIANWALI TEH ESSA KHEL VIA KALA BAGH P/O TOLA MANGLI VILLAGE MUHABBAT KHEL sir may selab say motaser howa houn,but what i can',\n 'TAUSEEF KHAN S/O AKBAR DIN MIANWALI TEH ESSA KHEL VIA KALA BAGH P/O TOLA MANGLI VILLAGE MUHABBAT KHEL sir may selab say motaser howa houn,leken mujy koi emdad wagera nhi mili,mujy omeed hai k ap meri madad zaroor fermaygy.shokria',\n 'TEH SUHBAT PUR VILL NASEER KHAN KHOSA MY PRESENT LOC',\n 'UN aur UN K Nimaidon ko Apeel krt hain k? Hamara Rozgar,Crops,aur taleem Health,saf pani peane k lea sub kuch Effecte hoge hain!Hamre Ilaiqe mein',\n 'I allhadino khaskheli UC chatto a dehe a shalunka  walidad khaskheli    halya selab    gia hamare    fasal   Doob gia leaken hamare    engos a rashan      bhut ',\n 'village koor mir mohmmad u c burira takuka khairpur nathan shah distt: dadu',\n 'gaav valay aahar aor aarthik samashyaa saamna kartha hai krupayaa maddath karo.Prof. A Sultan Soomro. Village Essa khan Thebo talk. KNSHAH.',\n '  CONNFCTION     /         .     SOLANGI,       JOHI  ',\n '@jujoffer: So Frankenstorm has been reduced to Young Frankenstorm status‚àö√Ü',\n \"#SandyUntappd ‚àö‚â• Drinking an Oatmeal Stout by Brown's Brewing Company @Casa de Beer Nerd ‚àö‚â• http://t.co/gPjxgSN1 #photoIt's dark and stormy (@Frankenstorm Apocalypse - Hurricane Sandy w/ @whitneyebryan @gregwong) http://t.co/fBTFQlQJ\",\n 'atrickSF @antmarshall @kleankut1 @somarlavous @mkbkrthebkmkr @gunsmoke415 Sandy cant blow for shit.. http://t.co/1R3ufoMOGuy on the roof of a building in Brooklyn #sandy #nyc http://t.co/E44mdt1U',\n \"Les habitants, dont l'activité est essentiellement pastorale, ont perdu une grande partie de leur bétail.\",\n \"Jusqu'à présent, les 133 femmes qui participent au projet à Mbar Toubab ont produit de la laitue, des tomates, des oignons, des pommes de terre, des gombos, des aubergines, des pastèques, des carottes, des choux et des navets.\",\n 'Despite rapid deliveries of tents and other relief assistance by Chinese authorities, fresh snowfall on Tuesday made the situation for the estimated 40,000 homeless people in Zhangbei and Shangyi counties of Hebei Province very difficult.',\n 'All available resources were put forward to deal with the heatwave which killed 1,271 alone in the metropolis since June 20, when the first heatstroke victims arrived at hospitals.',\n 'The six countries will also adopt a training curriculum for their volunteers as the group feels that they play an important role in education and prevention, David Dofara, a regional health specialist, told IRIN on Thursday.',\n '\"It was very windy and there were heavy thunderstorms.',\n 'The 50 international hospital staff lived in a tent city and sweltered in temperatures of 45 degrees celsius.',\n \"L'Armée suisse a cependant le savoir-faire et les connaissances nécessaires pour accomplir en cas de besoin de telles tâches outre-mer.\",\n 'PETR V. ILIICHEV (Russian Federation) said the growing \"untraditional\" risks to peacekeepers from non-governmental actors placed more responsibility on the Council to devise clear mandates.',\n \"* Par ailleurs, aucune victime française n'a été signalée, la communauté française étant implantée principalement dans la capitale.\",\n 'Refugees International therefore recommends that:',\n 'This combination of low agricultural production and high food prices means that many people have started to resort to negative coping mechanisms: reducing their number of daily meals, taking their children out of school and eating roots and leaves.',\n 'crop, loss of hydro-electric generating capacity, a reduction of production in various mining enterprises and',\n 'transferred to a sanitary landfill site by a',\n 'Families also have solar lamps which can be recharged at charging stations in each community.',\n 'Read the [full blog post](http://www.odi.org.uk/opinion/details.asp?id=6777&title=somalia-horn-africa-humanitarian-crisis-independent-commission-aid-impact-icai-dfid) by Simon Levine.',\n 'Actualmente e independientemente de la ayuda de socorro inmediato que está proporcionando en el terreno los equipos diocesanos de Caritas Pakistán, las cuatro organizaciones miembros de Caritas que ya operan en Pakistán están haciendo la planificacin para responder a la emergencia de las actuales inundaciones.',\n 'Mali\\'s former President Amadou Toumani Touré - though hailed internationally as a democrat, reformer, and ally in the American \"war on terror\"  - oversaw a system tainted by corruption at all levels.']"
     },
     "metadata": {},
     "execution_count": 17
    }
   ],
   "source": [
    "# checking messages with related values == 2\n",
    "list(df[df['related'] == 2]['message'])"
   ]
  },
  {
   "cell_type": "code",
   "execution_count": 18,
   "metadata": {},
   "outputs": [
    {
     "output_type": "stream",
     "name": "stdout",
     "text": "(26176, 39)\n(25988, 39)\n"
    }
   ],
   "source": [
    "# deciding to drop rows where related == 2\n",
    "print(df.shape)\n",
    "df.drop(df[df['related'] == 2].index\n",
    "       ,axis = 0\n",
    "       ,inplace = True)\n",
    "print(df.shape)"
   ]
  },
  {
   "cell_type": "markdown",
   "metadata": {},
   "source": [
    "### 7. Save the clean dataset into an sqlite database."
   ]
  },
  {
   "cell_type": "code",
   "execution_count": 19,
   "metadata": {},
   "outputs": [],
   "source": [
    "engine = create_engine('sqlite:///../data/DisasterResponse.db')\n",
    "df.to_sql('Message_Category'\n",
    "         ,engine\n",
    "         ,index = False\n",
    "         ,if_exists = 'replace')"
   ]
  }
 ],
 "metadata": {
  "kernelspec": {
   "display_name": "Python 3",
   "language": "python",
   "name": "python3"
  },
  "language_info": {
   "codemirror_mode": {
    "name": "ipython",
    "version": 3
   },
   "file_extension": ".py",
   "mimetype": "text/x-python",
   "name": "python",
   "nbconvert_exporter": "python",
   "pygments_lexer": "ipython3",
   "version": "3.7.4-final"
  }
 },
 "nbformat": 4,
 "nbformat_minor": 2
}